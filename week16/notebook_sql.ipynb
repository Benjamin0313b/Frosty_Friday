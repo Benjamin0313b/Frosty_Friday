{
 "metadata": {
  "kernelspec": {
   "display_name": "Streamlit Notebook",
   "name": "streamlit"
  }
 },
 "nbformat_minor": 5,
 "nbformat": 4,
 "cells": [
  {
   "cell_type": "markdown",
   "id": "b8d3050d-8a66-4f26-b56f-920fe5395b08",
   "metadata": {
    "name": "cell4",
    "collapsed": false
   },
   "source": "# はじめに"
  },
  {
   "cell_type": "code",
   "id": "3775908f-ca36-4846-8f38-5adca39217f2",
   "metadata": {
    "language": "sql",
    "name": "cell1",
    "collapsed": false,
    "codeCollapsed": false
   },
   "source": "//week16\n//https://frostyfriday.org/blog/2022/09/30/week-16-intermediate/\n\n//setup\nuse role sysadmin;\nuse database d_harato_db;\nuse schema ff;\ncreate or replace file format json_ff_harato\n    type = json\n    strip_outer_array = TRUE;\n    \ncreate or replace stage week_16_frosty_stage\n    url = 's3://frostyfridaychallenges/challenge_16/'\n    file_format = json_ff_harato;\n\ncreate or replace table week16 as\nselect t.$1:word::text word, t.$1:url::text url, t.$1:definition::variant definition  \nfrom @week_16_frosty_stage (file_format => 'json_ff_harato', pattern=>'.*week16.*') t;\n\n//確認\nselect * from week16 as w where word like 'l%' limit 5;",
   "execution_count": null,
   "outputs": []
  },
  {
   "cell_type": "markdown",
   "id": "e7951c1d-bee2-4833-b689-246e7e5d73cc",
   "metadata": {
    "name": "cell8",
    "collapsed": false
   },
   "source": "DEFINITIONの内容\n\n```json\n[\n  {\n    \"license\": {\n      \"name\": \"CC BY-SA 3.0\",\n      \"url\": \"https://creativecommons.org/licenses/by-sa/3.0\"\n    },\n    \"meanings\": [\n      {\n        \"antonyms\": [],\n        \"definitions\": [\n          {\n            \"antonyms\": [],\n            \"definition\": \"That which results; the conclusion or end to which any course or condition of things leads, or which is obtained by any process or operation; consequence or effect.\",\n            \"example\": \"the result of a course of action;  the result of a mathematical operation\",\n            \"synonyms\": []\n          }\n        ],\n        \"partOfSpeech\": \"noun\",\n        \"synonyms\": []\n      }\n    ],\n    \"phonetic\": \"/ɹɪˈzʌlt/\",\n    \"phonetics\": [\n      {\n        \"audio\": \"https://api.dictionaryapi.dev/media/pronunciations/en/result-us.mp3\",\n        \"license\": {\n          \"name\": \"BY-SA 3.0\",\n          \"url\": \"https://creativecommons.org/licenses/by-sa/3.0\"\n        },\n        \"sourceUrl\": \"https://commons.wikimedia.org/w/index.php?curid=1239703\",\n        \"text\": \"/ɹɪˈzʌlt/\"\n      }\n    ],\n    \"sourceUrls\": [\n      \"https://en.wiktionary.org/wiki/result\"\n    ],\n    \"word\": \"result\"\n  }\n]\n```"
  },
  {
   "cell_type": "markdown",
   "id": "205b86aa-da79-4149-9d33-55b8b35d1fb2",
   "metadata": {
    "name": "cell5",
    "collapsed": false
   },
   "source": "# jsonファイルを構造化していく"
  },
  {
   "cell_type": "code",
   "id": "c695373e-ac74-4b62-a1f1-08206cbd5c81",
   "metadata": {
    "language": "sql",
    "name": "cell3",
    "collapsed": false,
    "codeCollapsed": false
   },
   "source": "-- 一番外側のリストを外してみる\n-- value列に入っているのがフラット化されたもの\nselect\n    definition_flatten.*\nfrom\n    week16 as w16,\n    lateral flatten(w16.definition) definition_flatten\nlimit\n    5\n;",
   "execution_count": null,
   "outputs": []
  },
  {
   "cell_type": "markdown",
   "id": "a91ed98e-a71e-464d-8fec-b1d8a26ffb11",
   "metadata": {
    "name": "cell7",
    "collapsed": false
   },
   "source": "出力結果のカラム説明\n1. SEQ\n入力レコードに関連付けられた一意のシーケンス番号です。\n\n2. KEY\nマップまたはオブジェクトの場合、この列には展開された値のキーが含まれます。\n\n3. PATH\nフラット化する必要があるデータ構造内の要素へのパスです。\n\n4. INDEX\n配列の場合は要素のインデックスで、それ以外の場合は NULLです。\n\n5. VALUE\nフラット化された配列/オブジェクトの要素の値です。\n\n6. THIS\n平坦化される要素（再帰的フラット化に有用）です。"
  },
  {
   "cell_type": "markdown",
   "id": "f0f85b4d-88c9-4efa-bbec-68892106a1b2",
   "metadata": {
    "name": "cell9",
    "collapsed": false
   },
   "source": "```yaml\n{\n  \"license\": {\n    \"name\": \"CC BY-SA 3.0\",\n    \"url\": \"https://creativecommons.org/licenses/by-sa/3.0\"\n  },\n  \"meanings\": [\n    {\n      \"antonyms\": [],\n      \"definitions\": [\n        {\n          \"antonyms\": [],\n          \"definition\": \"That which results; the conclusion or end to which any course or condition of things leads, or which is obtained by any process or operation; consequence or effect.\",\n          \"example\": \"the result of a course of action;  the result of a mathematical operation\",\n          \"synonyms\": []\n        }\n      ],\n      \"partOfSpeech\": \"noun\",\n      \"synonyms\": []\n    }\n  ],\n  \"phonetic\": \"/ɹɪˈzʌlt/\",\n  \"phonetics\": [\n    {\n      \"audio\": \"https://api.dictionaryapi.dev/media/pronunciations/en/result-us.mp3\",\n      \"license\": {\n        \"name\": \"BY-SA 3.0\",\n        \"url\": \"https://creativecommons.org/licenses/by-sa/3.0\"\n      },\n      \"sourceUrl\": \"https://commons.wikimedia.org/w/index.php?curid=1239703\",\n      \"text\": \"/ɹɪˈzʌlt/\"\n    }\n  ],\n  \"sourceUrls\": [\n    \"https://en.wiktionary.org/wiki/result\"\n  ],\n  \"word\": \"result\"\n}\n```"
  },
  {
   "cell_type": "code",
   "id": "32636fd9-d8a6-406a-92b4-4352c85dd316",
   "metadata": {
    "language": "sql",
    "name": "cell6",
    "collapsed": false,
    "codeCollapsed": false
   },
   "outputs": [],
   "source": "-- licenseの中身を取得したい\nselect\n    definition_flatten.value:license as \"ドット表記\"\n    , definition_flatten.value['license'] as \"かっこ表記\"\nfrom\n    week16 as w16,\n    lateral flatten(w16.definition) definition_flatten\nlimit\n    5\n;",
   "execution_count": null
  },
  {
   "cell_type": "markdown",
   "id": "9391624c-c056-4c29-ae06-5b142ff16148",
   "metadata": {
    "name": "cell10",
    "collapsed": true
   },
   "source": "```json\n{\n    \"name\": \"CC BY-SA 3.0\",\n    \"url\": \"https://creativecommons.org/licenses/by-sa/3.0\"\n}\n```"
  },
  {
   "cell_type": "code",
   "id": "764abebd-229a-4b17-b3c8-94f827bbd9ac",
   "metadata": {
    "language": "sql",
    "name": "cell2",
    "collapsed": false,
    "codeCollapsed": false
   },
   "outputs": [],
   "source": "-- nameの中身を取得したい\nselect\n    definition_flatten.value:license:name as \"ドット表記\"\n    , definition_flatten.value['license']['name'] as \"かっこ表記\"\nfrom\n    week16 as w16,\n    lateral flatten(w16.definition) definition_flatten\nlimit\n    5\n;",
   "execution_count": null
  },
  {
   "cell_type": "markdown",
   "id": "8574acef-ebb6-44f8-bc34-2aace77c29fb",
   "metadata": {
    "name": "cell11",
    "collapsed": false
   },
   "source": "*注意* \\\n要素名がSnowflakeSQL識別子ルールに準拠していない場合、名前を二重引用符で囲む必要がある。\n\n```sql\n-- This contains a blank.\nSELECT src:\"company name\" FROM partners;\n\n-- This does not start with a letter or underscore.\nSELECT zipcode_info:\"94987\" FROM addresses;\n\n-- This contains characters that are not letters, digits, or underscores, and\n-- it does not start with a letter or underscore.\nSELECT measurements:\"#sPerSquareInch\" FROM english_metrics;\n```"
  },
  {
   "cell_type": "code",
   "id": "f92e92ff-e075-4dbe-93ef-ca9c69399c0c",
   "metadata": {
    "language": "sql",
    "name": "cell12",
    "collapsed": false,
    "codeCollapsed": false
   },
   "outputs": [],
   "source": "-- 各要素の中身を確認\nselect\n    definition_flatten.value:license\n    , definition_flatten.value:meanings\n    , definition_flatten.value:phonetic\n    , definition_flatten.value:phonetics\n    , definition_flatten.value:sourceUrls\n    , definition_flatten.value:word\nfrom\n    week16 as w16,\n    lateral flatten(w16.definition) definition_flatten\nlimit\n    5\n;\n\n-- 各々の結果をみてみると、meaningsとphoneticsとsourceUrlsで配列の存在を確認",
   "execution_count": null
  },
  {
   "cell_type": "markdown",
   "id": "d41d8009-79b7-4db8-a369-cdd4d80885a7",
   "metadata": {
    "name": "cell26",
    "collapsed": false
   },
   "source": "```json\n{\n  \"license\": {\n    \"name\": \"CC BY-SA 3.0\",\n    \"url\": \"https://creativecommons.org/licenses/by-sa/3.0\"\n  },\n  \"meanings\": [\n    {\n      \"antonyms\": [],\n      \"definitions\": [\n        {\n          \"antonyms\": [],\n          \"definition\": \"That which results; the conclusion or end to which any course or condition of things leads, or which is obtained by any process or operation; consequence or effect.\",\n          \"example\": \"the result of a course of action;  the result of a mathematical operation\",\n          \"synonyms\": []\n        }\n    ],\n  }\n  \"sourceUrls\": [\n    \"https://en.wiktionary.org/wiki/result\"\n  ],\n  \"word\": \"result\"\n}\n```"
  },
  {
   "cell_type": "code",
   "id": "d7f2d3ef-690f-401d-a879-99b8780341c7",
   "metadata": {
    "language": "sql",
    "name": "cell13",
    "collapsed": false,
    "codeCollapsed": false
   },
   "outputs": [],
   "source": "-- 一旦meaningsに関して、リストを外す\nselect\n    meanings_flatten.value\nfrom\n    week16 as w16,\n    lateral flatten(w16.definition) definition_flatten,\n    lateral flatten(definition_flatten.value:meanings) meanings_flatten\nlimit\n    5\n;",
   "execution_count": null
  },
  {
   "cell_type": "markdown",
   "id": "fd248dc1-4cad-4692-95eb-d77ac78bde2c",
   "metadata": {
    "name": "cell15",
    "collapsed": false
   },
   "source": "- meanings_flattenの内容\n```json\n{\n  \"antonyms\": [],\n  \"definitions\": [\n    {\n      \"antonyms\": [],\n      \"definition\": \"That which results; the conclusion or end to which any course or condition of things leads, or which is obtained by any process or operation; consequence or effect.\",\n      \"example\": \"the result of a course of action;  the result of a mathematical operation\",\n      \"synonyms\": []\n    }\n  ],\n  \"partOfSpeech\": \"noun\",\n  \"synonyms\": []\n}\n\n```"
  },
  {
   "cell_type": "code",
   "id": "58a40a0f-bf08-4c89-87de-632adab9de1c",
   "metadata": {
    "language": "sql",
    "name": "cell14",
    "codeCollapsed": false
   },
   "outputs": [],
   "source": "-- 同様に他2つに関しても実施\n-- 一旦meaningsに関して、リストを外す\nselect\n    meanings_flatten.value as meanings_flatten\n    ,phonetics_flatten.value as phonetics_flatten\n    , sourceUrls_flatten.value as sourceurls_flatten\nfrom\n    week16 as w16,\n    lateral flatten(w16.definition) definition_flatten,\n    lateral flatten(definition_flatten.value:meanings)   meanings_flatten,\n    lateral flatten(definition_flatten.value:phonetics)  phonetics_flatten,\n    lateral flatten(definition_flatten.value:sourceUrls) sourceUrls_flatten\nlimit\n    5\n;",
   "execution_count": null
  },
  {
   "cell_type": "markdown",
   "id": "6bec7996-4dd1-450b-ac84-1d49a07754a9",
   "metadata": {
    "name": "cell16",
    "collapsed": false
   },
   "source": "- phonetics_flatten\n```json\n{\n  \"audio\": \"https://api.dictionaryapi.dev/media/pronunciations/en/result-us.mp3\",\n  \"license\": {\n    \"name\": \"BY-SA 3.0\",\n    \"url\": \"https://creativecommons.org/licenses/by-sa/3.0\"\n  },\n  \"sourceUrl\": \"https://commons.wikimedia.org/w/index.php?curid=1239703\",\n  \"text\": \"/ɹɪˈzʌlt/\"\n}\n```\n\n- sourceurls_flatten\n```json\n\"https://en.wiktionary.org/wiki/result\"\n```"
  },
  {
   "cell_type": "code",
   "id": "8f432e2d-1af4-4c06-b95d-7689702f2525",
   "metadata": {
    "language": "sql",
    "name": "cell17"
   },
   "outputs": [],
   "source": "-- 今回解答に必要な要素を書き出す\nselect\n    word\n    , url\n    , meanings_flatten.value:antonyms as general_antonyms\n    , meanings_flatten.value:synonyms as general_synonyms\n    , meanings_definitions_flatten.value:definition as definition\n    , meanings_definitions_flatten.value:example as example_if_applicable\n    , meanings_definitions_flatten.value:antonyms as definitional_synonyms\n    , meanings_definitions_flatten.value:synonyms as definitional_antonyms\nfrom\n    week16 as w16,\n    lateral flatten(w16.definition) definition_flatten,\n    lateral flatten(definition_flatten.value:meanings)  meanings_flatten,\n    lateral flatten(meanings_flatten.value:definitions) meanings_definitions_flatten\nlimit\n    5",
   "execution_count": null
  },
  {
   "cell_type": "code",
   "id": "3bf72e33-2f04-4c51-976f-9da4df786a83",
   "metadata": {
    "language": "sql",
    "name": "cell18",
    "collapsed": false,
    "codeCollapsed": false
   },
   "outputs": [],
   "source": "-- 必要なカラムを抽出してカウントを実施\nwith get_data as (\n    select\n        word\n        , url\n        , meanings_flatten.value:antonyms as general_antonyms\n        , meanings_flatten.value:synonyms as general_synonyms\n        , meanings_definitions_flatten.value:definition as definition\n        , meanings_definitions_flatten.value:example as example_if_applicable\n        , meanings_definitions_flatten.value:antonyms as definitional_synonyms\n        , meanings_definitions_flatten.value:synonyms as definitional_antonyms\n    from\n        week16 as w16,\n        lateral flatten(w16.definition) definition_flatten,\n        lateral flatten(definition_flatten.value:meanings)   meanings_flatten,\n        lateral flatten(meanings_flatten.value:definitions)   meanings_definitions_flatten\n)\n\nselect count(word), count(distinct word) from get_data;",
   "execution_count": null
  },
  {
   "cell_type": "markdown",
   "id": "caa5a74d-0f1c-4224-b054-e0aa1cec45b5",
   "metadata": {
    "name": "cell24",
    "collapsed": false
   },
   "source": "正解の数字 \\\nIf correct, then\n- count(word) should get you 32,295 rows\n- count(distinct word) should get you 3,000 rows"
  },
  {
   "cell_type": "markdown",
   "id": "c38c224f-75e5-44c0-acee-4e5a9496a938",
   "metadata": {
    "name": "cell21",
    "collapsed": false
   },
   "source": "\nドキュメントを見ると下記の記載がある\n\n```\nOUTER => TRUE | FALSE\nFALSE の場合、パスでアクセスできないか、フィールドまたはエントリがゼロであるために展開できない入力行は、出力から完全に省略されます。\nTRUE の場合、ゼロ行展開用に正確に1行が生成されます（ KEY、 INDEX、 VALUE 列に NULL が含まれる）。\n\nデフォルト： FALSE\n```"
  },
  {
   "cell_type": "code",
   "id": "f2f0febf-f6e7-4b17-a6d6-d235dc302f9e",
   "metadata": {
    "language": "sql",
    "name": "cell19"
   },
   "outputs": [],
   "source": "-- 必要なカラムを抽出\nwith get_data as (\n    select\n        word\n        , url\n        , meanings_flatten.value:antonyms as general_antonyms\n        , meanings_flatten.value:synonyms as general_synonyms\n        , meanings_definitions_flatten.value:definition as definition\n        , meanings_definitions_flatten.value:example as example_if_applicable\n        , meanings_definitions_flatten.value:antonyms as definitional_synonyms\n        , meanings_definitions_flatten.value:synonyms as definitional_antonyms\n    from\n        week16 as w16,\n        lateral flatten(w16.definition, outer => TRUE) definition_flatten,\n        lateral flatten(definition_flatten.value:meanings, outer => TRUE)  meanings_flatten,\n        lateral flatten(meanings_flatten.value:definitions, outer => TRUE) meanings_definitions_flatten\n)\n\nselect count(word), count(distinct word) from get_data\n;",
   "execution_count": null
  },
  {
   "cell_type": "code",
   "id": "3b95bf39-b87d-4f53-8233-4370e7b32a25",
   "metadata": {
    "language": "sql",
    "name": "cell20"
   },
   "outputs": [],
   "source": "-- 必要なカラムを抽出\nwith get_data as (\n    select\n        word\n        , url\n        , definition_flatten.value as general_antonyms\n        , definition_flatten_array.value as general_antonyms_array\n        , definition_flatten_object.value as definition_flatten_object\n    from\n        week16 as w16,\n        lateral flatten(w16.definition) definition_flatten,\n        lateral flatten(w16.definition, outer => TRUE, mode => 'OBJECT') definition_flatten_object,\n        lateral flatten(w16.definition, outer => TRUE, mode => 'ARRAY') definition_flatten_array\n    where true\n        and URL in ('https://api.dictionaryapi.dev/api/v2/entries/en/mm-hmm', 'https://api.dictionaryapi.dev/api/v2/entries/en/result')\n)\n\nselect * from get_data",
   "execution_count": null
  },
  {
   "cell_type": "markdown",
   "id": "c509ce76-8af0-4dc1-bf91-bc8a4d143830",
   "metadata": {
    "name": "cell23",
    "collapsed": false
   },
   "source": "今回の出力カラムは下記の部分 → 配列の箇所\n```json\n  \"meanings\": [\n    {\n      \"antonyms\": [],\n      \"definitions\": [\n        {\n          \"antonyms\": [],\n          \"definition\": \"That which results; the conclusion or end to which any course or condition of things leads, or which is obtained by any process or operation; consequence or effect.\",\n          \"example\": \"the result of a course of action;  the result of a mathematical operation\",\n          \"synonyms\": []\n        }\n      ]\n```"
  },
  {
   "cell_type": "code",
   "id": "b2163dce-7446-4540-8797-1119dd477859",
   "metadata": {
    "language": "sql",
    "name": "cell22"
   },
   "outputs": [],
   "source": "-- 必要なカラムを抽出\nwith get_data as (\n    select\n        word\n        , url\n        , definition_flatten.value as general_antonyms\n        , meanings_flatten.value:antonyms as general_antonyms\n        , meanings_flatten.value:synonyms as general_synonyms\n        , meanings_definitions_flatten.value:definition as definition\n        , meanings_definitions_flatten.value:example as example_if_applicable\n        , meanings_definitions_flatten.value:antonyms as definitional_synonyms\n        , meanings_definitions_flatten.value:synonyms as definitional_antonyms\n    from\n        week16 as w16,\n        lateral flatten(w16.definition, outer => TRUE, mode => 'ARRAY') definition_flatten,\n        lateral flatten(definition_flatten.value:meanings, outer => TRUE, mode => 'ARRAY')   meanings_flatten,\n        lateral flatten(meanings_flatten.value:definitions, outer => TRUE, mode => 'ARRAY')   meanings_definitions_flatten\n)\n\nselect count(word), count(distinct word) from get_data\n;",
   "execution_count": null
  }
 ]
}